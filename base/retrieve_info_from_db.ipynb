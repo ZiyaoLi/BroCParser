{
 "cells": [
  {
   "cell_type": "code",
   "execution_count": 1,
   "metadata": {
    "collapsed": true
   },
   "outputs": [],
   "source": [
    "import re"
   ]
  },
  {
   "cell_type": "code",
   "execution_count": 2,
   "metadata": {
    "collapsed": true
   },
   "outputs": [],
   "source": [
    "f = open('d1_base','r')\n",
    "sl = f.read().strip().split('\\n')\n",
    "f.close()"
   ]
  },
  {
   "cell_type": "code",
   "execution_count": 3,
   "metadata": {},
   "outputs": [],
   "source": [
    "def state(name, abbreviation, capital, population, area, state_number, city1, city2, city3, city4):\n",
    "    return ['state', name, abbreviation, capital, population, area, state_number, city1, city2, city3, city4]\n",
    "def city(state, state_abbreviation, name, population):\n",
    "    return ['city', state, state_abbreviation, name, population]\n",
    "def river(name, length, states_through_which_it_flows):\n",
    "    return ['river', name, length, states_through_which_it_flows]\n",
    "def border(state, state_abbreviation, states_that_border_it):\n",
    "    return ['border', state, state_abbreviation, states_that_border_it]\n",
    "def highlow(state, state_abbreviation, highest_point, highest_elevation, lowest_point, lowest_elevation):\n",
    "    return ['highlow', state, state_abbreviation, highest_point, highest_elevation, lowest_point, lowest_elevation]\n",
    "def mountain(state, state_abbreviation, name, height):\n",
    "    return ['mountain', state, state_abbreviation, name, height]\n",
    "def road(number, states_it_passes_through):\n",
    "    return ['road', number, states_it_passes_through]\n",
    "def lake(name, area, states_it_is_in):\n",
    "    return ['lake', name, area, states_it_is_in]\n",
    "def country(name, population, area):\n",
    "    return ['country', name, population, area]"
   ]
  },
  {
   "cell_type": "code",
   "execution_count": 4,
   "metadata": {},
   "outputs": [],
   "source": [
    "nl = [eval(t) for t in sl]"
   ]
  },
  {
   "cell_type": "code",
   "execution_count": 5,
   "metadata": {},
   "outputs": [],
   "source": [
    "nlst = []\n",
    "nlct = []\n",
    "nlrv = []\n",
    "nlpl = []\n",
    "for t in nl:\n",
    "    if t[0] == 'state':\n",
    "        nlst.append(t[1:])\n",
    "    elif t[0] == 'city':\n",
    "        nlct.append(t[1:])\n",
    "    elif t[0] == 'river':\n",
    "        nlrv.append(t[1:])\n",
    "    elif t[0] == 'lake':\n",
    "        nlpl.append(t[1])\n",
    "        nlpl.append('lake ' + t[1])\n",
    "        nlpl.append(t[1] + ' lake')\n",
    "    elif t[0] == 'mountain':\n",
    "        nlpl.append(t[3])\n",
    "        nlpl.append('mount ' + t[3])\n",
    "        nlpl.append(t[3] + ' mountain')\n",
    "    elif t[0] == 'highlow':\n",
    "        if t[3].find('river') == -1:\n",
    "            nlpl.append(t[3])\n",
    "        if t[5].find('river') == -1:\n",
    "            nlpl.append(t[5])"
   ]
  },
  {
   "cell_type": "code",
   "execution_count": 6,
   "metadata": {},
   "outputs": [],
   "source": [
    "stateshorts = [t[1] for t in nlst]\n",
    "statenames = [t[0] for t in nlst]\n",
    "citynames = [t[2] for t in nlct]\n",
    "citystates = [t[0] for t in nlct]\n",
    "cityshorts = [t[1] for t in nlct]\n",
    "rivernames = [t[0] for t in nlrv]\n",
    "places = nlpl"
   ]
  },
  {
   "cell_type": "code",
   "execution_count": 7,
   "metadata": {},
   "outputs": [],
   "source": [
    "mult = []\n",
    "for t in citynames:\n",
    "    if ' ' in t:\n",
    "        mult.append(t)\n",
    "for t in statenames:\n",
    "    if ' ' in t:\n",
    "        mult.append(t)\n",
    "for t in rivernames:\n",
    "    if ' ' in t:\n",
    "        mult.append(t)\n",
    "for t in places:\n",
    "    if ' ' in t:\n",
    "        mult.append(t)\n",
    "mult = set(mult)"
   ]
  },
  {
   "cell_type": "code",
   "execution_count": 8,
   "metadata": {},
   "outputs": [],
   "source": [
    "f = open('multi.txt','w')\n",
    "f.write('\\n'.join(mult))\n",
    "f.close()"
   ]
  },
  {
   "cell_type": "code",
   "execution_count": 9,
   "metadata": {},
   "outputs": [],
   "source": [
    "for i,t in enumerate(citynames):\n",
    "    if ' ' in t:\n",
    "        citynames[i] = \"'%s'\" % t\n",
    "for i,t in enumerate(citystates):\n",
    "    if ' ' in t:\n",
    "        citystates[i] = \"'%s'\" % t\n",
    "for i,t in enumerate(rivernames):\n",
    "    if ' ' in t:\n",
    "        rivernames[i] = \"'%s'\" % t\n",
    "for i,t in enumerate(statenames):\n",
    "    if ' ' in t:\n",
    "        statenames[i] = \"'%s'\" % t\n",
    "for i,t in enumerate(places):\n",
    "    if ' ' in t:\n",
    "        places[i] = \"'%s'\" % t"
   ]
  },
  {
   "cell_type": "code",
   "execution_count": 10,
   "metadata": {},
   "outputs": [],
   "source": [
    "f = open('citynames.txt','w')\n",
    "f.write('\\n'.join(citynames))\n",
    "f.close()\n",
    "f = open('citystates.txt','w')\n",
    "f.write('\\n'.join(citystates))\n",
    "f.close()\n",
    "f = open('cityshorts.txt','w')\n",
    "f.write('\\n'.join(cityshorts))\n",
    "f.close()\n",
    "f = open('rivernames.txt','w')\n",
    "f.write('\\n'.join(rivernames))\n",
    "f.close()\n",
    "f = open('statenames.txt','w')\n",
    "f.write('\\n'.join(statenames))\n",
    "f.close()\n",
    "f = open('places.txt','w')\n",
    "f.write('\\n'.join(places))\n",
    "f.close()"
   ]
  },
  {
   "cell_type": "code",
   "execution_count": null,
   "metadata": {
    "collapsed": true
   },
   "outputs": [],
   "source": []
  }
 ],
 "metadata": {
  "kernelspec": {
   "display_name": "Python 3",
   "language": "python",
   "name": "python3"
  },
  "language_info": {
   "codemirror_mode": {
    "name": "ipython",
    "version": 3
   },
   "file_extension": ".py",
   "mimetype": "text/x-python",
   "name": "python",
   "nbconvert_exporter": "python",
   "pygments_lexer": "ipython3",
   "version": "3.6.3"
  }
 },
 "nbformat": 4,
 "nbformat_minor": 2
}
